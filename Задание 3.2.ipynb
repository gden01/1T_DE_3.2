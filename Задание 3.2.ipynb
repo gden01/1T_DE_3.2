{
 "cells": [
  {
   "cell_type": "code",
   "execution_count": 1,
   "id": "e208be35",
   "metadata": {},
   "outputs": [],
   "source": [
    "#1. Функция для расчета площади и периметра квадрата:"
   ]
  },
  {
   "cell_type": "code",
   "execution_count": 13,
   "id": "9e06318f",
   "metadata": {},
   "outputs": [],
   "source": [
    "def square_info(side_length):\n",
    "    area = side_length ** 2\n",
    "    perimeter = 4 * side_length\n",
    "    print(f\"Площадь квадрата: {area}\")\n",
    "    print(f\"Периметр квадрата: {perimeter}\")"
   ]
  },
  {
   "cell_type": "code",
   "execution_count": 3,
   "id": "00242722",
   "metadata": {},
   "outputs": [],
   "source": [
    "#2. Функция для суммирования квадратов двух чисел и сохранения результата в переменной squared:"
   ]
  },
  {
   "cell_type": "code",
   "execution_count": 12,
   "id": "c18f514f",
   "metadata": {},
   "outputs": [],
   "source": [
    "def sum_of_squares(a, b):\n",
    "    squared = a ** 2 + b ** 2\n",
    "    return squared"
   ]
  },
  {
   "cell_type": "code",
   "execution_count": 5,
   "id": "839dcf21",
   "metadata": {},
   "outputs": [],
   "source": [
    "#3. Функция для обращения списка:"
   ]
  },
  {
   "cell_type": "code",
   "execution_count": 14,
   "id": "996f1f51",
   "metadata": {},
   "outputs": [],
   "source": [
    "def reverse_list(input_list):\n",
    "    new_list = input_list[::-1]\n",
    "    return new_list"
   ]
  },
  {
   "cell_type": "code",
   "execution_count": 7,
   "id": "72ce11c5",
   "metadata": {},
   "outputs": [],
   "source": [
    "#4. Функция для подсчета количества мужчин или женщин в списке, в зависимости от параметра gender:"
   ]
  },
  {
   "cell_type": "code",
   "execution_count": 17,
   "id": "8bc4557e",
   "metadata": {},
   "outputs": [],
   "source": [
    "def count_gender(input_list, gender):\n",
    "    count = input_list.count(gender)\n",
    "    return count"
   ]
  },
  {
   "cell_type": "code",
   "execution_count": 9,
   "id": "a9ca9bff",
   "metadata": {},
   "outputs": [],
   "source": [
    "#5. Функция для подсчета символов в строке и создания словаря:"
   ]
  },
  {
   "cell_type": "code",
   "execution_count": 18,
   "id": "83b226d6",
   "metadata": {},
   "outputs": [],
   "source": [
    "def count_characters(input_string):\n",
    "    char_count = {}\n",
    "    for char in input_string:\n",
    "        if char in char_count:\n",
    "            char_count[char] += 1\n",
    "        else:\n",
    "            char_count[char] = 1\n",
    "    return char_count"
   ]
  },
  {
   "cell_type": "code",
   "execution_count": null,
   "id": "a8d370a0",
   "metadata": {},
   "outputs": [],
   "source": []
  }
 ],
 "metadata": {
  "kernelspec": {
   "display_name": "Python 3 (ipykernel)",
   "language": "python",
   "name": "python3"
  },
  "language_info": {
   "codemirror_mode": {
    "name": "ipython",
    "version": 3
   },
   "file_extension": ".py",
   "mimetype": "text/x-python",
   "name": "python",
   "nbconvert_exporter": "python",
   "pygments_lexer": "ipython3",
   "version": "3.9.13"
  }
 },
 "nbformat": 4,
 "nbformat_minor": 5
}
